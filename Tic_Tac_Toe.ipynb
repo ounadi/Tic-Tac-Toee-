{
 "cells": [
  {
   "cell_type": "markdown",
   "metadata": {},
   "source": [
    "choose a positin from 1-9\n",
    "Cette case déjà sélectionnée"
   ]
  },
  {
   "cell_type": "code",
   "execution_count": 1,
   "metadata": {},
   "outputs": [],
   "source": [
    "import cv2 \n",
    "import numpy as np \n",
    "from matplotlib import pyplot as plt\n",
    "import sys"
   ]
  },
  {
   "cell_type": "code",
   "execution_count": 2,
   "metadata": {},
   "outputs": [],
   "source": [
    "def test(liste):\n",
    "    if(liste[0]==liste[1]==liste[2]==\"X\")or(liste[8]==liste[7]==liste[6]==\"X\")or(liste[3]==liste[4]==liste[5]==\"X\")or(liste[7]==liste[1]==liste[4]==\"X\")or(liste[0]==liste[3]==liste[6]==\"X\")or(liste[2]==liste[5]==liste[8]==\"X\")or(liste[6]==liste[4]==liste[2]==\"X\")or(liste[0]==liste[4]==liste[8]==\"X\"):\n",
    "        return 1\n",
    "    elif(liste[0]==liste[1]==liste[2]==\"O\")or(liste[8]==liste[7]==liste[6]==\"O\")or(liste[3]==liste[4]==liste[5]==\"O\")or(liste[7]==liste[1]==liste[4]==\"O\")or(liste[0]==liste[3]==liste[6]==\"O\")or(liste[2]==liste[5]==liste[8]==\"O\")or(liste[6]==liste[4]==liste[2]==\"O\")or(liste[0]==liste[4]==liste[8]==\"O\"):\n",
    "        return 2\n",
    "    else :\n",
    "        return 0"
   ]
  },
  {
   "cell_type": "code",
   "execution_count": 3,
   "metadata": {},
   "outputs": [],
   "source": [
    "def affi(liste):\n",
    "    print(liste[0]+\" | \"+liste[1]+\" | \"+liste[2])\n",
    "    print(liste[3]+\" | \"+liste[4]+\" | \"+liste[5])\n",
    "    print(liste[6]+\" | \"+liste[7]+\" | \"+liste[8])"
   ]
  },
  {
   "cell_type": "code",
   "execution_count": 4,
   "metadata": {},
   "outputs": [],
   "source": [
    "def test_case(liste,x):\n",
    "    if(liste[x-1]==\"X\" or liste[x-1]==\"O\" ):\n",
    "        return 1\n",
    "    "
   ]
  },
  {
   "cell_type": "code",
   "execution_count": 25,
   "metadata": {},
   "outputs": [
    {
     "name": "stdout",
     "output_type": "stream",
     "text": [
      "- | - | -\n",
      "- | - | -\n",
      "- | - | -\n",
      "Player #1 choose a positin from 1-9 :1\n",
      "X | - | -\n",
      "- | - | -\n",
      "- | - | -\n",
      "Player #2 choose a positin from 1-9 :4\n",
      "X | - | -\n",
      "O | - | -\n",
      "- | - | -\n",
      "Player #1 choose a positin from 1-9 :5\n",
      "X | - | -\n",
      "O | X | -\n",
      "- | - | -\n",
      "Player #2 choose a positin from 1-9 :9\n",
      "X | - | -\n",
      "O | X | -\n",
      "- | - | O\n",
      "Player #1 choose a positin from 1-9 :3\n",
      "X | - | X\n",
      "O | X | -\n",
      "- | - | O\n",
      "Player #2 choose a positin from 1-9 :2\n",
      "X | O | X\n",
      "O | X | -\n",
      "- | - | O\n",
      "Player #1 choose a positin from 1-9 :7\n",
      "X | O | X\n",
      "O | X | -\n",
      "X | - | O\n",
      "Player #1 won \n",
      "Play again ! Yes=>1\\ No=>00\n"
     ]
    }
   ],
   "source": [
    "    liste=[\"-\",\"-\",\"-\",\"-\",\"-\",\"-\",\"-\",\"-\",\"-\"]\n",
    "    affi(liste)\n",
    "    i=0\n",
    "    l=[1,2,3,4,5,6,7,8,9]\n",
    "    while(i<9):\n",
    "        if(i%2==0):\n",
    "            x=input(\"Player #1 choose a positin from 1-9 :\")\n",
    "            while(int(x) not in l):\n",
    "                print(\"Cette case déjà sélectionnée\")\n",
    "                x=input(\"Player #1 choose a positin from 1-9 :\")\n",
    "        else:\n",
    "            x=input(\"Player #2 choose a positin from 1-9 :\")\n",
    "            while(int(x) not in l):\n",
    "                print(\"Cette case déjà sélectionnée\")\n",
    "                x=input(\"Player #2 choose a positin from 1-9 :\")\n",
    "        l.remove(int(x))\n",
    "        if(i%2==0):\n",
    "            liste[int(x)-1]=\"X\"\n",
    "        else:\n",
    "            liste[int(x)-1]=\"O\"\n",
    "\n",
    "        affi(liste)\n",
    "        y=test(liste)\n",
    "        i+=1\n",
    "        if(y==1):\n",
    "            print(\"Player #1 won \")\n",
    "            t=input(\"Play again ! Yes=>1\\ No=>0\")\n",
    "            if(t=='1'):\n",
    "                i=0\n",
    "            else :\n",
    "                i=9\n",
    "        elif(y==2):\n",
    "            print(\"Player #2 won \")\n",
    "            t=input(\"Play again ! Yes=>1\\ No=>0\")\n",
    "            if(int(t)==1):\n",
    "                i=0\n",
    "                liste=[\"-\",\"-\",\"-\",\"-\",\"-\",\"-\",\"-\",\"-\",\"-\"]\n",
    "            else :\n",
    "                i=9\n",
    "        if(i==9 and y==0):\n",
    "            print(\"Game Over \")\n",
    "            t=input (\"Play again ! Yes=>1\\ No=>0\")\n",
    "            if(int(t)==1):\n",
    "                i=0\n",
    "                liste=[\"-\",\"-\",\"-\",\"-\",\"-\",\"-\",\"-\",\"-\",\"-\"]\n",
    "            else :\n",
    "                i=9\n",
    "        \n"
   ]
  },
  {
   "cell_type": "code",
   "execution_count": null,
   "metadata": {},
   "outputs": [],
   "source": []
  }
 ],
 "metadata": {
  "kernelspec": {
   "display_name": "Python 3",
   "language": "python",
   "name": "python3"
  },
  "language_info": {
   "codemirror_mode": {
    "name": "ipython",
    "version": 3
   },
   "file_extension": ".py",
   "mimetype": "text/x-python",
   "name": "python",
   "nbconvert_exporter": "python",
   "pygments_lexer": "ipython3",
   "version": "3.8.8"
  }
 },
 "nbformat": 4,
 "nbformat_minor": 2
}
